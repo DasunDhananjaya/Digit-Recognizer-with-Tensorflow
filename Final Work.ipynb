{
 "cells": [
  {
   "cell_type": "code",
   "execution_count": 161,
   "metadata": {
    "executionInfo": {
     "elapsed": 6004,
     "status": "ok",
     "timestamp": 1710839199578,
     "user": {
      "displayName": "Dasun Dhananjaya",
      "userId": "17486108815603095244"
     },
     "user_tz": -330
    },
    "id": "v9BPtXHj9Tbz"
   },
   "outputs": [],
   "source": [
    "#!pip install opendatasets -q"
   ]
  },
  {
   "cell_type": "code",
   "execution_count": 162,
   "metadata": {
    "executionInfo": {
     "elapsed": 7847,
     "status": "ok",
     "timestamp": 1710839207404,
     "user": {
      "displayName": "Dasun Dhananjaya",
      "userId": "17486108815603095244"
     },
     "user_tz": -330
    },
    "id": "4xTo-PZx9EfC"
   },
   "outputs": [],
   "source": [
    "# import necessary libraries\n",
    "import numpy as np\n",
    "import tensorflow as tf\n",
    "import matplotlib.pyplot as plt\n",
    "import time\n",
    "import pandas as pd\n",
    "#import opendatasets as od"
   ]
  },
  {
   "cell_type": "code",
   "execution_count": null,
   "metadata": {
    "colab": {
     "base_uri": "https://localhost:8080/"
    },
    "executionInfo": {
     "elapsed": 26,
     "status": "ok",
     "timestamp": 1710839207404,
     "user": {
      "displayName": "Dasun Dhananjaya",
      "userId": "17486108815603095244"
     },
     "user_tz": -330
    },
    "id": "9R5VrR0d9Rx7",
    "outputId": "694b35bc-b372-47fd-f44d-cb3c8c78bd1f"
   },
   "outputs": [],
   "source": [
    "#Load Dataset\n",
    "\n",
    "#od.download(\"https://www.kaggle.com/competitions/digit-recognizer/data\")\n",
    "\n",
    "#{\"username\":\"dasundhananjaya\",\"key\":\"2c9084bf70d50b32527c5f61d19a072d\"}"
   ]
  },
  {
   "cell_type": "code",
   "execution_count": 164,
   "metadata": {
    "executionInfo": {
     "elapsed": 3534,
     "status": "ok",
     "timestamp": 1710839210919,
     "user": {
      "displayName": "Dasun Dhananjaya",
      "userId": "17486108815603095244"
     },
     "user_tz": -330
    },
    "id": "P5K-J0mP9Q8D"
   },
   "outputs": [],
   "source": [
    "sample = pd.read_csv('data/sample_submission.csv')\n",
    "\n",
    "test = pd.read_csv('data/test.csv')\n",
    "train = pd.read_csv('data/train.csv')\n",
    "\n"
   ]
  },
  {
   "cell_type": "code",
   "execution_count": 165,
   "metadata": {
    "colab": {
     "base_uri": "https://localhost:8080/"
    },
    "executionInfo": {
     "elapsed": 32,
     "status": "ok",
     "timestamp": 1710839210920,
     "user": {
      "displayName": "Dasun Dhananjaya",
      "userId": "17486108815603095244"
     },
     "user_tz": -330
    },
    "id": "FNWvg1wy97hE",
    "outputId": "4a254a28-1e2e-4fd9-bd40-00a5b1d8927f"
   },
   "outputs": [
    {
     "data": {
      "text/plain": [
       "(42000, 28000, 28000)"
      ]
     },
     "execution_count": 165,
     "metadata": {},
     "output_type": "execute_result"
    }
   ],
   "source": [
    "len(train),len(test),len(sample)"
   ]
  },
  {
   "cell_type": "code",
   "execution_count": 166,
   "metadata": {
    "colab": {
     "base_uri": "https://localhost:8080/"
    },
    "executionInfo": {
     "elapsed": 20,
     "status": "ok",
     "timestamp": 1710839210920,
     "user": {
      "displayName": "Dasun Dhananjaya",
      "userId": "17486108815603095244"
     },
     "user_tz": -330
    },
    "id": "MJ7IUhFgAnIM",
    "outputId": "f6150ff7-2b3a-42ac-f253-dec3beb2bfcf"
   },
   "outputs": [
    {
     "name": "stdout",
     "output_type": "stream",
     "text": [
      "train shape:  (42000, 785)\n",
      "test shape:  (28000, 784)\n"
     ]
    }
   ],
   "source": [
    "print(\"train shape: \",train.shape)\n",
    "print(\"test shape: \",test.shape)"
   ]
  },
  {
   "cell_type": "code",
   "execution_count": 167,
   "metadata": {
    "colab": {
     "base_uri": "https://localhost:8080/"
    },
    "executionInfo": {
     "elapsed": 17,
     "status": "ok",
     "timestamp": 1710839210921,
     "user": {
      "displayName": "Dasun Dhananjaya",
      "userId": "17486108815603095244"
     },
     "user_tz": -330
    },
    "id": "kxx97d__BCqj",
    "outputId": "ae4cd6e3-f3f6-420e-8a8e-80677c3cfc65"
   },
   "outputs": [
    {
     "data": {
      "text/plain": [
       "Index(['label', 'pixel0', 'pixel1', 'pixel2', 'pixel3', 'pixel4', 'pixel5',\n",
       "       'pixel6', 'pixel7', 'pixel8',\n",
       "       ...\n",
       "       'pixel774', 'pixel775', 'pixel776', 'pixel777', 'pixel778', 'pixel779',\n",
       "       'pixel780', 'pixel781', 'pixel782', 'pixel783'],\n",
       "      dtype='object', length=785)"
      ]
     },
     "execution_count": 167,
     "metadata": {},
     "output_type": "execute_result"
    }
   ],
   "source": [
    "train.columns"
   ]
  },
  {
   "cell_type": "code",
   "execution_count": 168,
   "metadata": {
    "colab": {
     "base_uri": "https://localhost:8080/"
    },
    "executionInfo": {
     "elapsed": 909,
     "status": "ok",
     "timestamp": 1710839211818,
     "user": {
      "displayName": "Dasun Dhananjaya",
      "userId": "17486108815603095244"
     },
     "user_tz": -330
    },
    "id": "hBps2Eh-BCsr",
    "outputId": "b911ba14-bc99-4c1b-d745-1fd874ab2dff"
   },
   "outputs": [
    {
     "data": {
      "text/plain": [
       "Index(['pixel0', 'pixel1', 'pixel2', 'pixel3', 'pixel4', 'pixel5', 'pixel6',\n",
       "       'pixel7', 'pixel8', 'pixel9',\n",
       "       ...\n",
       "       'pixel774', 'pixel775', 'pixel776', 'pixel777', 'pixel778', 'pixel779',\n",
       "       'pixel780', 'pixel781', 'pixel782', 'pixel783'],\n",
       "      dtype='object', length=784)"
      ]
     },
     "execution_count": 168,
     "metadata": {},
     "output_type": "execute_result"
    }
   ],
   "source": [
    "test.columns"
   ]
  },
  {
   "cell_type": "code",
   "execution_count": 169,
   "metadata": {
    "colab": {
     "base_uri": "https://localhost:8080/"
    },
    "executionInfo": {
     "elapsed": 32,
     "status": "ok",
     "timestamp": 1710839211819,
     "user": {
      "displayName": "Dasun Dhananjaya",
      "userId": "17486108815603095244"
     },
     "user_tz": -330
    },
    "id": "qfcRg4mlAnKj",
    "outputId": "132e5f00-bcb8-4fc8-f0e2-57ac12b391f4"
   },
   "outputs": [
    {
     "name": "stdout",
     "output_type": "stream",
     "text": [
      "[1 0 4 7 3 5 8 9 2 6]\n",
      "10\n"
     ]
    }
   ],
   "source": [
    "print(train['label'].unique())\n",
    "print(train['label'].nunique())"
   ]
  },
  {
   "cell_type": "code",
   "execution_count": 170,
   "metadata": {
    "colab": {
     "base_uri": "https://localhost:8080/"
    },
    "executionInfo": {
     "elapsed": 26,
     "status": "ok",
     "timestamp": 1710839211820,
     "user": {
      "displayName": "Dasun Dhananjaya",
      "userId": "17486108815603095244"
     },
     "user_tz": -330
    },
    "id": "tnZwisUf97jr",
    "outputId": "0406ef20-b988-4491-bb2f-3298897d14f4"
   },
   "outputs": [
    {
     "data": {
      "text/plain": [
       "False"
      ]
     },
     "execution_count": 170,
     "metadata": {},
     "output_type": "execute_result"
    }
   ],
   "source": [
    "# prompt: generate a code to find out if there are column name \"label\" in train\n",
    "\n",
    "\"label\" in test.columns\n"
   ]
  },
  {
   "cell_type": "code",
   "execution_count": 171,
   "metadata": {
    "colab": {
     "base_uri": "https://localhost:8080/",
     "height": 236
    },
    "executionInfo": {
     "elapsed": 22,
     "status": "ok",
     "timestamp": 1710839211820,
     "user": {
      "displayName": "Dasun Dhananjaya",
      "userId": "17486108815603095244"
     },
     "user_tz": -330
    },
    "id": "bqgLMc-f97mM",
    "outputId": "2a682789-e1a1-444f-b270-a3a4d1c22c21"
   },
   "outputs": [
    {
     "data": {
      "text/html": [
       "<div>\n",
       "<style scoped>\n",
       "    .dataframe tbody tr th:only-of-type {\n",
       "        vertical-align: middle;\n",
       "    }\n",
       "\n",
       "    .dataframe tbody tr th {\n",
       "        vertical-align: top;\n",
       "    }\n",
       "\n",
       "    .dataframe thead th {\n",
       "        text-align: right;\n",
       "    }\n",
       "</style>\n",
       "<table border=\"1\" class=\"dataframe\">\n",
       "  <thead>\n",
       "    <tr style=\"text-align: right;\">\n",
       "      <th></th>\n",
       "      <th>label</th>\n",
       "      <th>pixel0</th>\n",
       "      <th>pixel1</th>\n",
       "      <th>pixel2</th>\n",
       "      <th>pixel3</th>\n",
       "      <th>pixel4</th>\n",
       "      <th>pixel5</th>\n",
       "      <th>pixel6</th>\n",
       "      <th>pixel7</th>\n",
       "      <th>pixel8</th>\n",
       "      <th>...</th>\n",
       "      <th>pixel774</th>\n",
       "      <th>pixel775</th>\n",
       "      <th>pixel776</th>\n",
       "      <th>pixel777</th>\n",
       "      <th>pixel778</th>\n",
       "      <th>pixel779</th>\n",
       "      <th>pixel780</th>\n",
       "      <th>pixel781</th>\n",
       "      <th>pixel782</th>\n",
       "      <th>pixel783</th>\n",
       "    </tr>\n",
       "  </thead>\n",
       "  <tbody>\n",
       "    <tr>\n",
       "      <th>0</th>\n",
       "      <td>1</td>\n",
       "      <td>0</td>\n",
       "      <td>0</td>\n",
       "      <td>0</td>\n",
       "      <td>0</td>\n",
       "      <td>0</td>\n",
       "      <td>0</td>\n",
       "      <td>0</td>\n",
       "      <td>0</td>\n",
       "      <td>0</td>\n",
       "      <td>...</td>\n",
       "      <td>0</td>\n",
       "      <td>0</td>\n",
       "      <td>0</td>\n",
       "      <td>0</td>\n",
       "      <td>0</td>\n",
       "      <td>0</td>\n",
       "      <td>0</td>\n",
       "      <td>0</td>\n",
       "      <td>0</td>\n",
       "      <td>0</td>\n",
       "    </tr>\n",
       "    <tr>\n",
       "      <th>1</th>\n",
       "      <td>0</td>\n",
       "      <td>0</td>\n",
       "      <td>0</td>\n",
       "      <td>0</td>\n",
       "      <td>0</td>\n",
       "      <td>0</td>\n",
       "      <td>0</td>\n",
       "      <td>0</td>\n",
       "      <td>0</td>\n",
       "      <td>0</td>\n",
       "      <td>...</td>\n",
       "      <td>0</td>\n",
       "      <td>0</td>\n",
       "      <td>0</td>\n",
       "      <td>0</td>\n",
       "      <td>0</td>\n",
       "      <td>0</td>\n",
       "      <td>0</td>\n",
       "      <td>0</td>\n",
       "      <td>0</td>\n",
       "      <td>0</td>\n",
       "    </tr>\n",
       "    <tr>\n",
       "      <th>2</th>\n",
       "      <td>1</td>\n",
       "      <td>0</td>\n",
       "      <td>0</td>\n",
       "      <td>0</td>\n",
       "      <td>0</td>\n",
       "      <td>0</td>\n",
       "      <td>0</td>\n",
       "      <td>0</td>\n",
       "      <td>0</td>\n",
       "      <td>0</td>\n",
       "      <td>...</td>\n",
       "      <td>0</td>\n",
       "      <td>0</td>\n",
       "      <td>0</td>\n",
       "      <td>0</td>\n",
       "      <td>0</td>\n",
       "      <td>0</td>\n",
       "      <td>0</td>\n",
       "      <td>0</td>\n",
       "      <td>0</td>\n",
       "      <td>0</td>\n",
       "    </tr>\n",
       "    <tr>\n",
       "      <th>3</th>\n",
       "      <td>4</td>\n",
       "      <td>0</td>\n",
       "      <td>0</td>\n",
       "      <td>0</td>\n",
       "      <td>0</td>\n",
       "      <td>0</td>\n",
       "      <td>0</td>\n",
       "      <td>0</td>\n",
       "      <td>0</td>\n",
       "      <td>0</td>\n",
       "      <td>...</td>\n",
       "      <td>0</td>\n",
       "      <td>0</td>\n",
       "      <td>0</td>\n",
       "      <td>0</td>\n",
       "      <td>0</td>\n",
       "      <td>0</td>\n",
       "      <td>0</td>\n",
       "      <td>0</td>\n",
       "      <td>0</td>\n",
       "      <td>0</td>\n",
       "    </tr>\n",
       "    <tr>\n",
       "      <th>4</th>\n",
       "      <td>0</td>\n",
       "      <td>0</td>\n",
       "      <td>0</td>\n",
       "      <td>0</td>\n",
       "      <td>0</td>\n",
       "      <td>0</td>\n",
       "      <td>0</td>\n",
       "      <td>0</td>\n",
       "      <td>0</td>\n",
       "      <td>0</td>\n",
       "      <td>...</td>\n",
       "      <td>0</td>\n",
       "      <td>0</td>\n",
       "      <td>0</td>\n",
       "      <td>0</td>\n",
       "      <td>0</td>\n",
       "      <td>0</td>\n",
       "      <td>0</td>\n",
       "      <td>0</td>\n",
       "      <td>0</td>\n",
       "      <td>0</td>\n",
       "    </tr>\n",
       "  </tbody>\n",
       "</table>\n",
       "<p>5 rows × 785 columns</p>\n",
       "</div>"
      ],
      "text/plain": [
       "   label  pixel0  pixel1  pixel2  pixel3  pixel4  pixel5  pixel6  pixel7  \\\n",
       "0      1       0       0       0       0       0       0       0       0   \n",
       "1      0       0       0       0       0       0       0       0       0   \n",
       "2      1       0       0       0       0       0       0       0       0   \n",
       "3      4       0       0       0       0       0       0       0       0   \n",
       "4      0       0       0       0       0       0       0       0       0   \n",
       "\n",
       "   pixel8  ...  pixel774  pixel775  pixel776  pixel777  pixel778  pixel779  \\\n",
       "0       0  ...         0         0         0         0         0         0   \n",
       "1       0  ...         0         0         0         0         0         0   \n",
       "2       0  ...         0         0         0         0         0         0   \n",
       "3       0  ...         0         0         0         0         0         0   \n",
       "4       0  ...         0         0         0         0         0         0   \n",
       "\n",
       "   pixel780  pixel781  pixel782  pixel783  \n",
       "0         0         0         0         0  \n",
       "1         0         0         0         0  \n",
       "2         0         0         0         0  \n",
       "3         0         0         0         0  \n",
       "4         0         0         0         0  \n",
       "\n",
       "[5 rows x 785 columns]"
      ]
     },
     "execution_count": 171,
     "metadata": {},
     "output_type": "execute_result"
    }
   ],
   "source": [
    "train.head()"
   ]
  },
  {
   "cell_type": "code",
   "execution_count": 172,
   "metadata": {
    "colab": {
     "base_uri": "https://localhost:8080/",
     "height": 406
    },
    "executionInfo": {
     "elapsed": 21,
     "status": "ok",
     "timestamp": 1710839211821,
     "user": {
      "displayName": "Dasun Dhananjaya",
      "userId": "17486108815603095244"
     },
     "user_tz": -330
    },
    "id": "lLH4MnLH97oz",
    "outputId": "0b9b3834-6789-4af7-ace5-f87f564e7dbc"
   },
   "outputs": [
    {
     "data": {
      "image/png": "[encoded data removed]",
      "text/plain": [
       "<Figure size 640x480 with 1 Axes>"
      ]
     },
     "metadata": {},
     "output_type": "display_data"
    }
   ],
   "source": [
    "# prompt: genarate code to view sample image of train\n",
    "\n",
    "import numpy as np\n",
    "import matplotlib.pyplot as plt\n",
    "\n",
    "# Select a random image from the training set.\n",
    "index = np.random.randint(0, len(train))\n",
    "image = train.iloc[index, 1:].values.reshape((28, 28))\n",
    "\n",
    "# Display the image.\n",
    "plt.imshow(image, cmap='gray')\n",
    "plt.axis('off')\n",
    "plt.show()\n"
   ]
  },
  {
   "cell_type": "code",
   "execution_count": 173,
   "metadata": {
    "executionInfo": {
     "elapsed": 20,
     "status": "ok",
     "timestamp": 1710839211822,
     "user": {
      "displayName": "Dasun Dhananjaya",
      "userId": "17486108815603095244"
     },
     "user_tz": -330
    },
    "id": "RimL2m47CjB7"
   },
   "outputs": [],
   "source": [
    "x = train.drop('label',axis=1) #\n",
    "y = train['label']"
   ]
  },
  {
   "cell_type": "code",
   "execution_count": 174,
   "metadata": {
    "executionInfo": {
     "elapsed": 569,
     "status": "ok",
     "timestamp": 1710839212371,
     "user": {
      "displayName": "Dasun Dhananjaya",
      "userId": "17486108815603095244"
     },
     "user_tz": -330
    },
    "id": "3XX5UxjYCWx5"
   },
   "outputs": [],
   "source": [
    "from sklearn.model_selection import train_test_split\n",
    "\n",
    "x_train,x_test,y_train,y_test = train_test_split(x,y,test_size=0.2,random_state=42)"
   ]
  },
  {
   "cell_type": "code",
   "execution_count": 175,
   "metadata": {
    "colab": {
     "base_uri": "https://localhost:8080/"
    },
    "executionInfo": {
     "elapsed": 10,
     "status": "ok",
     "timestamp": 1710839212372,
     "user": {
      "displayName": "Dasun Dhananjaya",
      "userId": "17486108815603095244"
     },
     "user_tz": -330
    },
    "id": "bY_4oUdBCWux",
    "outputId": "fb4f07a6-3d24-4e6f-ff9c-1884734674b5"
   },
   "outputs": [
    {
     "data": {
      "text/plain": [
       "(33600, 784)"
      ]
     },
     "execution_count": 175,
     "metadata": {},
     "output_type": "execute_result"
    }
   ],
   "source": [
    "x_train.shape"
   ]
  },
  {
   "cell_type": "code",
   "execution_count": 176,
   "metadata": {
    "colab": {
     "base_uri": "https://localhost:8080/",
     "height": 829
    },
    "executionInfo": {
     "elapsed": 1637,
     "status": "ok",
     "timestamp": 1710839214002,
     "user": {
      "displayName": "Dasun Dhananjaya",
      "userId": "17486108815603095244"
     },
     "user_tz": -330
    },
    "id": "Ipeqn9_ICWrS",
    "outputId": "f12a5935-60ff-4095-8eea-b8e2044f5633"
   },
   "outputs": [
    {
     "data": {
      "image/png": "[encoded data removed]",
      "text/plain": [
       "<Figure size 1200x1200 with 16 Axes>"
      ]
     },
     "metadata": {},
     "output_type": "display_data"
    }
   ],
   "source": [
    "cols = 4\n",
    "rows = 4\n",
    "fig, axs = plt.subplots(rows, cols, figsize=(12, 12))\n",
    "\n",
    "for i, ax in enumerate(axs.flat):\n",
    "    # Select a random image from the training set.\n",
    "    index = np.random.randint(0, len(train))\n",
    "    image = train.iloc[index, 1:].values.reshape((28, 28))\n",
    "\n",
    "    # Display the image.\n",
    "    ax.imshow(image, cmap='gray')\n",
    "    ax.axis('off')\n",
    "    ax.set_title(f\"Label: {train.iloc[index, 0]}\", fontsize=12)\n",
    "\n",
    "plt.suptitle(\"Sample Images from the Dataset\", fontsize=16)\n",
    "plt.show()"
   ]
  },
  {
   "cell_type": "code",
   "execution_count": null,
   "metadata": {
    "executionInfo": {
     "elapsed": 49,
     "status": "ok",
     "timestamp": 1710839214003,
     "user": {
      "displayName": "Dasun Dhananjaya",
      "userId": "17486108815603095244"
     },
     "user_tz": -330
    },
    "id": "5fHzAf2eCWoy"
   },
   "outputs": [],
   "source": [
    "\n"
   ]
  },
  {
   "cell_type": "code",
   "execution_count": 177,
   "metadata": {
    "colab": {
     "base_uri": "https://localhost:8080/"
    },
    "executionInfo": {
     "elapsed": 48,
     "status": "ok",
     "timestamp": 1710839214004,
     "user": {
      "displayName": "Dasun Dhananjaya",
      "userId": "17486108815603095244"
     },
     "user_tz": -330
    },
    "id": "Vy3d54XGE7h4",
    "outputId": "877c0316-788c-46b2-a15f-5b67164e24cb"
   },
   "outputs": [
    {
     "data": {
      "text/plain": [
       "((33600, 784), (33600,))"
      ]
     },
     "execution_count": 177,
     "metadata": {},
     "output_type": "execute_result"
    }
   ],
   "source": [
    "x_train.shape , y_train.shape"
   ]
  },
  {
   "cell_type": "code",
   "execution_count": 178,
   "metadata": {
    "executionInfo": {
     "elapsed": 44,
     "status": "ok",
     "timestamp": 1710839214005,
     "user": {
      "displayName": "Dasun Dhananjaya",
      "userId": "17486108815603095244"
     },
     "user_tz": -330
    },
    "id": "eHNPLBm3EMlD"
   },
   "outputs": [],
   "source": [
    "#Reshape images\n",
    "\n",
    "x_train=x_train.values.reshape(x_train.shape[0],28,28,1)/255.0\n",
    "x_test=test.values.reshape(test.shape[0],28,28,1)/255.0\n"
   ]
  },
  {
   "cell_type": "code",
   "execution_count": 179,
   "metadata": {
    "colab": {
     "base_uri": "https://localhost:8080/"
    },
    "executionInfo": {
     "elapsed": 44,
     "status": "ok",
     "timestamp": 1710839214005,
     "user": {
      "displayName": "Dasun Dhananjaya",
      "userId": "17486108815603095244"
     },
     "user_tz": -330
    },
    "id": "wtWnG5jZ99Wj",
    "outputId": "0c2aa658-ea5a-4826-bce9-5387e267fe52"
   },
   "outputs": [
    {
     "data": {
      "text/plain": [
       "((33600, 28, 28, 1), (28000, 28, 28, 1))"
      ]
     },
     "execution_count": 179,
     "metadata": {},
     "output_type": "execute_result"
    }
   ],
   "source": [
    "x_train.shape,x_test.shape"
   ]
  },
  {
   "cell_type": "code",
   "execution_count": null,
   "metadata": {
    "executionInfo": {
     "elapsed": 38,
     "status": "ok",
     "timestamp": 1710839214006,
     "user": {
      "displayName": "Dasun Dhananjaya",
      "userId": "17486108815603095244"
     },
     "user_tz": -330
    },
    "id": "rLbJ3bJNE6IB"
   },
   "outputs": [],
   "source": []
  },
  {
   "cell_type": "code",
   "execution_count": 180,
   "metadata": {
    "colab": {
     "base_uri": "https://localhost:8080/"
    },
    "executionInfo": {
     "elapsed": 38,
     "status": "ok",
     "timestamp": 1710839214008,
     "user": {
      "displayName": "Dasun Dhananjaya",
      "userId": "17486108815603095244"
     },
     "user_tz": -330
    },
    "id": "puPhXr8tEMni",
    "outputId": "8cfa9607-9145-465d-c7b4-9d53b74ce450"
   },
   "outputs": [
    {
     "data": {
      "text/plain": [
       "(4, 4, 1, 1)"
      ]
     },
     "execution_count": 180,
     "metadata": {},
     "output_type": "execute_result"
    }
   ],
   "source": [
    "(x_train.ndim),(x_test.ndim),(y_train.ndim),(y_test.ndim)"
   ]
  },
  {
   "cell_type": "code",
   "execution_count": 181,
   "metadata": {
    "executionInfo": {
     "elapsed": 34,
     "status": "ok",
     "timestamp": 1710839214008,
     "user": {
      "displayName": "Dasun Dhananjaya",
      "userId": "17486108815603095244"
     },
     "user_tz": -330
    },
    "id": "xZjqhqkR-WIt"
   },
   "outputs": [],
   "source": [
    "\n",
    "\n",
    "# Convert y_train to one-hot encoded format\n",
    "y_train = tf.keras.utils.to_categorical(y_train, num_classes=10)"
   ]
  },
  {
   "cell_type": "code",
   "execution_count": null,
   "metadata": {
    "colab": {
     "base_uri": "https://localhost:8080/"
    },
    "executionInfo": {
     "elapsed": 1850,
     "status": "ok",
     "timestamp": 1710839215828,
     "user": {
      "displayName": "Dasun Dhananjaya",
      "userId": "17486108815603095244"
     },
     "user_tz": -330
    },
    "id": "7zxzLvHTEMqi",
    "outputId": "bef22b9c-ea16-4e59-d8fb-aec7c35c7666"
   },
   "outputs": [],
   "source": [
    "#Defining the model\n",
    "model = tf.keras.models.Sequential([\n",
    "  tf.keras.layers.Conv2D(32,(3,3),activation = 'relu', input_shape=(28,28,1)),\n",
    "  tf.keras.layers.Conv2D(32,(3,3),activation = 'relu'),\n",
    "  tf.keras.layers.MaxPooling2D(2,2),\n",
    "  tf.keras.layers.Conv2D(64,(3,3),activation = 'relu',padding = 'Same'),\n",
    "  tf.keras.layers.Conv2D(64,(3,3),activation = 'relu',padding = 'Same'),\n",
    "  tf.keras.layers.MaxPooling2D(pool_size = (2,2), strides = (2,2)),\n",
    "  tf.keras.layers.Dropout(0.25),\n",
    "  tf.keras.layers.Conv2D(64,(3,3),activation = 'relu',padding = 'Same'),\n",
    "  tf.keras.layers.Conv2D(64,(3,3),activation = 'relu',padding = 'Same'),\n",
    "  tf.keras.layers.MaxPooling2D(pool_size = (2,2), strides = (2,2)),\n",
    "  tf.keras.layers.Dropout(0.25),\n",
    "  tf.keras.layers.Flatten(),\n",
    "  tf.keras.layers.Dense(256, activation='relu'),\n",
    "  #tf.keras.layers.Dropout(0.50),\n",
    "  tf.keras.layers.Dense(256, activation='relu'),\n",
    "  tf.keras.layers.Dropout(0.50),\n",
    "  tf.keras.layers.Dense(10, activation='softmax')\n",
    "])\n",
    "\n",
    "\n",
    "model.summary()\n"
   ]
  },
  {
   "cell_type": "code",
   "execution_count": null,
   "metadata": {
    "colab": {
     "base_uri": "https://localhost:8080/"
    },
    "executionInfo": {
     "elapsed": 25,
     "status": "ok",
     "timestamp": 1710839215830,
     "user": {
      "displayName": "Dasun Dhananjaya",
      "userId": "17486108815603095244"
     },
     "user_tz": -330
    },
    "id": "R7OerThEpdCY",
    "outputId": "f50ba792-dfe0-42ad-ae67-a97c69a147b6"
   },
   "outputs": [],
   "source": [
    "test.shape"
   ]
  },
  {
   "cell_type": "code",
   "execution_count": null,
   "metadata": {
    "executionInfo": {
     "elapsed": 15,
     "status": "ok",
     "timestamp": 1710839215831,
     "user": {
      "displayName": "Dasun Dhananjaya",
      "userId": "17486108815603095244"
     },
     "user_tz": -330
    },
    "id": "zGwToOLpp_1v"
   },
   "outputs": [],
   "source": [
    "\n"
   ]
  },
  {
   "cell_type": "code",
   "execution_count": null,
   "metadata": {
    "executionInfo": {
     "elapsed": 14,
     "status": "ok",
     "timestamp": 1710839215832,
     "user": {
      "displayName": "Dasun Dhananjaya",
      "userId": "17486108815603095244"
     },
     "user_tz": -330
    },
    "id": "9W4Xcpeh33md"
   },
   "outputs": [],
   "source": []
  },
  {
   "cell_type": "code",
   "execution_count": null,
   "metadata": {
    "colab": {
     "base_uri": "https://localhost:8080/"
    },
    "executionInfo": {
     "elapsed": 44267,
     "status": "ok",
     "timestamp": 1710839260086,
     "user": {
      "displayName": "Dasun Dhananjaya",
      "userId": "17486108815603095244"
     },
     "user_tz": -330
    },
    "id": "UuQ4LwE1G7Kb",
    "outputId": "552ebe0d-e6bc-4365-cc13-4975e8ae5ac5"
   },
   "outputs": [],
   "source": [
    "import tensorflow as tf\n",
    "\n",
    "Optimizer = tf.keras.optimizers.Adam(\n",
    "            learning_rate=0.0005,\n",
    "            beta_1=0.9,\n",
    "            beta_2=0.999,\n",
    "            epsilon=1e-07,\n",
    "            name='Adam'\n",
    ")\n",
    "\n",
    "\n",
    "\n",
    "\n",
    "# Recompile the model with the new y_train shape\n",
    "model.compile(optimizer=Optimizer, loss='categorical_crossentropy', metrics=['accuracy'])\n",
    "\n",
    "# Train the model again\n",
    "history = model.fit(x_train, y_train, epochs=20, validation_split=0.1)\n",
    "#history = model.fit(x_train,y_train, # now 10 different classes\n",
    "#                    epochs=5,\n",
    "                    #steps_per_epoch=len(x_train),\n",
    "                    #validation_data=x_test,\n",
    "                    #validation_steps=len(x_test)\n",
    "#                    )"
   ]
  },
  {
   "cell_type": "code",
   "execution_count": null,
   "metadata": {
    "colab": {
     "base_uri": "https://localhost:8080/"
    },
    "executionInfo": {
     "elapsed": 84,
     "status": "ok",
     "timestamp": 1710839260090,
     "user": {
      "displayName": "Dasun Dhananjaya",
      "userId": "17486108815603095244"
     },
     "user_tz": -330
    },
    "id": "i332KN2uJWPS",
    "outputId": "ca2fcfba-185f-4cfa-9518-2e7c3176d0c4"
   },
   "outputs": [],
   "source": [
    "x_train.shape, x_train.shape\n"
   ]
  },
  {
   "cell_type": "code",
   "execution_count": null,
   "metadata": {
    "colab": {
     "base_uri": "https://localhost:8080/",
     "height": 487
    },
    "executionInfo": {
     "elapsed": 78,
     "status": "ok",
     "timestamp": 1710839260093,
     "user": {
      "displayName": "Dasun Dhananjaya",
      "userId": "17486108815603095244"
     },
     "user_tz": -330
    },
    "id": "oqahgSQYEMtK",
    "outputId": "d536bd4d-eb4a-459e-8c7d-ff8919a57a1f"
   },
   "outputs": [],
   "source": [
    "# Model Accuracy\n",
    "plt.subplot(1, 2, 1)\n",
    "plt.plot(history.history['accuracy'])\n",
    "plt.title('Model Accuracy')\n",
    "plt.ylabel('Accuracy')\n",
    "plt.xlabel('Epoch')\n",
    "plt.legend(['Train'], loc='upper left')\n",
    "\n",
    "# Model Loss\n",
    "plt.subplot(1, 2, 2)\n",
    "plt.plot(history.history['loss'])\n",
    "plt.title('Model Loss')\n",
    "plt.ylabel('Loss')\n",
    "plt.xlabel('Epoch')\n",
    "plt.legend(['Train'], loc='upper left')\n",
    "\n",
    "# Show the graphic\n",
    "plt.tight_layout()\n",
    "plt.show()"
   ]
  },
  {
   "cell_type": "code",
   "execution_count": null,
   "metadata": {
    "executionInfo": {
     "elapsed": 77,
     "status": "ok",
     "timestamp": 1710839260098,
     "user": {
      "displayName": "Dasun Dhananjaya",
      "userId": "17486108815603095244"
     },
     "user_tz": -330
    },
    "id": "N5rKzKO-EMvq"
   },
   "outputs": [],
   "source": [
    "def plot_history(history):\n",
    "  plt.plot(history.history['loss'])\n",
    "  plt.plot(history.history['val_loss'])\n",
    "  plt.title(\"Train loss vs Validation Loss\")\n",
    "  plt.ylabel('loss')\n",
    "  plt.xlabel('epochs')\n",
    "  plt.legend(['train','validation'],loc='upper right')\n",
    "  plt.show()\n",
    "\n",
    "  plt.plot(history.history['accuracy'])\n",
    "  plt.plot(history.history['val_accuracy'])\n",
    "  plt.title(\"Train accuracy vs Validation accuracy 2\")\n",
    "  plt.ylabel('accuracy')\n",
    "  plt.xlabel('epochs')\n",
    "  plt.legend(['train','validation'],loc='upper right')\n",
    "  plt.show()"
   ]
  },
  {
   "cell_type": "code",
   "execution_count": null,
   "metadata": {
    "colab": {
     "base_uri": "https://localhost:8080/",
     "height": 927
    },
    "executionInfo": {
     "elapsed": 1274,
     "status": "ok",
     "timestamp": 1710839261297,
     "user": {
      "displayName": "Dasun Dhananjaya",
      "userId": "17486108815603095244"
     },
     "user_tz": -330
    },
    "id": "xplNil8_JG4b",
    "outputId": "2f4bcf2b-608b-4bac-e2e1-5dc749a69d1f"
   },
   "outputs": [],
   "source": [
    "plot_history(history)"
   ]
  },
  {
   "cell_type": "markdown",
   "metadata": {
    "id": "NREg7nNTEM3S"
   },
   "source": [
    "https://www.kaggle.com/models/tensorflow/mnist"
   ]
  },
  {
   "cell_type": "markdown",
   "metadata": {
    "id": "tfQXoPgcBvge"
   },
   "source": [
    "# Model Evaluation"
   ]
  },
  {
   "cell_type": "code",
   "execution_count": null,
   "metadata": {
    "executionInfo": {
     "elapsed": 45,
     "status": "ok",
     "timestamp": 1710839261305,
     "user": {
      "displayName": "Dasun Dhananjaya",
      "userId": "17486108815603095244"
     },
     "user_tz": -330
    },
    "id": "5TQRksUOzqoD"
   },
   "outputs": [],
   "source": [
    "test = pd.read_csv('data/test.csv')\n",
    "train = pd.read_csv('data/train.csv')"
   ]
  },
  {
   "cell_type": "code",
   "execution_count": null,
   "metadata": {},
   "outputs": [],
   "source": [
    "x = train.drop('label',axis=1) #\n",
    "y = train['label']"
   ]
  },
  {
   "cell_type": "code",
   "execution_count": null,
   "metadata": {},
   "outputs": [],
   "source": [
    "from sklearn.model_selection import train_test_split\n",
    "\n",
    "x_train,x_test,y_train,y_test = train_test_split(x,y,test_size=0.2,random_state=42)"
   ]
  },
  {
   "cell_type": "code",
   "execution_count": null,
   "metadata": {},
   "outputs": [],
   "source": [
    "x_test.shape,y_test.shape"
   ]
  },
  {
   "cell_type": "code",
   "execution_count": null,
   "metadata": {},
   "outputs": [],
   "source": [
    "x_test_for_pred = x_test.values.reshape(len(x_test),28,28,1)"
   ]
  },
  {
   "cell_type": "code",
   "execution_count": null,
   "metadata": {},
   "outputs": [],
   "source": [
    "x_test_for_pred.shape,y_test.shape"
   ]
  },
  {
   "cell_type": "code",
   "execution_count": null,
   "metadata": {},
   "outputs": [],
   "source": [
    "y_test_to_pred = tf.keras.utils.to_categorical(y_test)\n",
    "y_test_to_pred.shape"
   ]
  },
  {
   "cell_type": "code",
   "execution_count": null,
   "metadata": {},
   "outputs": [],
   "source": [
    "model.evaluate(x_test_for_pred,y_test_to_pred)"
   ]
  },
  {
   "cell_type": "markdown",
   "metadata": {
    "executionInfo": {
     "elapsed": 21,
     "status": "ok",
     "timestamp": 1710839063223,
     "user": {
      "displayName": "Dasun Dhananjaya",
      "userId": "17486108815603095244"
     },
     "user_tz": -330
    },
    "id": "kyxT0CRJ1aQG"
   },
   "source": [
    "## Get the predictions"
   ]
  },
  {
   "cell_type": "code",
   "execution_count": null,
   "metadata": {
    "id": "QyKR2NPl-jgk"
   },
   "outputs": [],
   "source": [
    "y_pred = model.predict(x_test_for_pred)\n",
    "y_pred[:5]"
   ]
  },
  {
   "cell_type": "markdown",
   "metadata": {},
   "source": [
    "### Accuracy"
   ]
  },
  {
   "cell_type": "code",
   "execution_count": null,
   "metadata": {},
   "outputs": [],
   "source": [
    "\n",
    "accuracy = tf.keras.metrics.Accuracy()\n",
    "accuracy.update_state(y_test_to_pred, tf.round(y_pred))\n",
    "accuracy.result()"
   ]
  },
  {
   "cell_type": "markdown",
   "metadata": {},
   "source": [
    "### Precision"
   ]
  },
  {
   "cell_type": "code",
   "execution_count": null,
   "metadata": {},
   "outputs": [],
   "source": [
    "precision = tf.keras.metrics.Precision()\n",
    "precision.update_state(y_test_to_pred,y_pred)\n",
    "precision.result()"
   ]
  },
  {
   "cell_type": "markdown",
   "metadata": {},
   "source": [
    "### Recall"
   ]
  },
  {
   "cell_type": "code",
   "execution_count": null,
   "metadata": {},
   "outputs": [],
   "source": [
    "recall = tf.keras.metrics.Recall()\n",
    "recall.update_state(y_test_to_pred,y_pred)\n",
    "recall.result()"
   ]
  },
  {
   "cell_type": "code",
   "execution_count": null,
   "metadata": {},
   "outputs": [],
   "source": []
  },
  {
   "cell_type": "markdown",
   "metadata": {},
   "source": [
    "# Model Saving"
   ]
  },
  {
   "cell_type": "code",
   "execution_count": null,
   "metadata": {},
   "outputs": [],
   "source": [
    "#model.save('saved_model')\n",
    "#model.save('saved_model_h5.h5')"
   ]
  },
  {
   "cell_type": "code",
   "execution_count": null,
   "metadata": {},
   "outputs": [],
   "source": []
  },
  {
   "cell_type": "code",
   "execution_count": null,
   "metadata": {},
   "outputs": [],
   "source": []
  },
  {
   "cell_type": "code",
   "execution_count": null,
   "metadata": {},
   "outputs": [],
   "source": []
  },
  {
   "cell_type": "code",
   "execution_count": null,
   "metadata": {},
   "outputs": [],
   "source": []
  },
  {
   "cell_type": "code",
   "execution_count": null,
   "metadata": {},
   "outputs": [],
   "source": []
  },
  {
   "cell_type": "code",
   "execution_count": null,
   "metadata": {},
   "outputs": [],
   "source": []
  },
  {
   "cell_type": "code",
   "execution_count": null,
   "metadata": {},
   "outputs": [],
   "source": []
  }
 ],
 "metadata": {
  "accelerator": "GPU",
  "colab": {
   "gpuType": "T4",
   "provenance": []
  },
  "kernelspec": {
   "display_name": "Python 3 (ipykernel)",
   "language": "python",
   "name": "python3"
  },
  "language_info": {
   "codemirror_mode": {
    "name": "ipython",
    "version": 3
   },
   "file_extension": ".py",
   "mimetype": "text/x-python",
   "name": "python",
   "nbconvert_exporter": "python",
   "pygments_lexer": "ipython3",
   "version": "3.10.5"
  }
 },
 "nbformat": 4,
 "nbformat_minor": 1
}
